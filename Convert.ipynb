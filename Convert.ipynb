{
 "cells": [
  {
   "cell_type": "code",
   "execution_count": 138,
   "metadata": {},
   "outputs": [],
   "source": [
    "import pandas as pd \n",
    "import numpy as np \n",
    "import os\n",
    "from pyevtk.hl import unstructuredGridToVTK\n",
    "from pyevtk.vtk import VtkHexahedron\n",
    "import re"
   ]
  },
  {
   "cell_type": "code",
   "execution_count": 139,
   "metadata": {},
   "outputs": [],
   "source": [
    "#Open file in read mode \n",
    "file = open('./Data/tec_test_0.3g.dat','r')\n",
    "lines = file.readlines()\n",
    "file.close()"
   ]
  },
  {
   "cell_type": "code",
   "execution_count": 140,
   "metadata": {},
   "outputs": [],
   "source": [
    "#Delete the '\\n' at the end of each line\n",
    "for i in range(len(lines)):\n",
    "    lines[i] = lines[i][:-1]"
   ]
  },
  {
   "cell_type": "code",
   "execution_count": 141,
   "metadata": {},
   "outputs": [],
   "source": [
    "data = []#The data of each ZONE\n",
    "position = []#The position of 'VARIABLES' and 'ZONE'\n",
    "#split VARIABLES\n",
    "position.extend([lines.index('VARIABLES=')])"
   ]
  },
  {
   "cell_type": "code",
   "execution_count": 142,
   "metadata": {},
   "outputs": [],
   "source": [
    "#split ZONE\n",
    "key_word = re.compile(r'ZONE T=')\n",
    "line_match = list(filter(key_word.search, lines))#Get the serial number of lines which include ZONE\n",
    "for key in line_match:\n",
    "    position.extend([lines.index(key)])\n",
    "position.append(len(lines))\n",
    "#Split the file into several parts:Variables, Zone 1 ~ Zone n, \n",
    "for i in range(len(position)-1):\n",
    "    data.append(lines[position[i]:position[i+1]])"
   ]
  },
  {
   "cell_type": "code",
   "execution_count": 143,
   "metadata": {},
   "outputs": [],
   "source": [
    "for zone in data[1:]:\n",
    "    #Get the position of key words in the ZONE\n",
    "    key_words = ['^N=', 'DATAPACKING=', 'SOLUTIONTIME=', 'VARLOCATION=', 'DT=']\n",
    "    position_key = dict.fromkeys(key_words,[])\n",
    "    serial = []#the list of serial number of all key word in order to determine the start of value\n",
    "    for key in key_words:\n",
    "        target = re.compile(key)\n",
    "        position = []\n",
    "        for x in filter(target.search, zone):\n",
    "            position.append(zone.index(x))\n",
    "        position_key[key] = position\n",
    "        serial.extend(position)\n",
    "        \n",
    "    #Get the informations about nodes and elements\n",
    "    string = zone[position_key['^N='][0]]\n",
    "    a = string.split(', ')\n",
    "    number_of_nodes = int(a[0][2:])\n",
    "    number_of_elements = int(a[1][2:])\n",
    "    \n",
    "    #Get the informations about solutiontime\n",
    "    string = zone[position_key['SOLUTIONTIME='][0]]\n",
    "    SOLUTIONTIME = int(string[string.index('=')+1:])\n",
    "    \n",
    "    #Get the information about variable location\n",
    "    string = zone[position_key['VARLOCATION='][0]]\n",
    "    location = 'CELLCENTERED'\n",
    "    serial_number = string[string.index('[')+1 : string.index(']')-1]\n",
    "    loc = serial_number.split(' ')#Transfer a string to a list\n",
    "    \n",
    "    a = np.array(serial)\n",
    "    flag = a.max()+1 #Attention!\n",
    "    #Prepare three empty dictionary \n",
    "    cordinate=dict()\n",
    "    cellData=dict()\n",
    "    pointData=dict()\n",
    "    for i in data[0][1:]:\n",
    "        value_list = []\n",
    "        if str(data[0].index(i)) in loc:\n",
    "            rows = number_of_elements//100 +1\n",
    "            value = zone[flag:flag+rows]\n",
    "            for line in value:\n",
    "                value_list.extend(line.split())\n",
    "            cellData[i] = np.array(list(map(float, value_list)))\n",
    "        else:\n",
    "            rows = number_of_nodes//100 + 1\n",
    "            value = zone[flag:flag+rows]\n",
    "            for line in value:\n",
    "                value_list.extend(line.split())\n",
    "            if i not in ['X','Y','Z']:\n",
    "                pointData[i] = np.array(list(map(float, value_list)))\n",
    "            else:\n",
    "                cordinate[i] = np.array(list(map(float, value_list)))\n",
    "        flag += rows\n",
    "\n",
    "    connect = ''\n",
    "    for line in zone[flag:]:\n",
    "        connect+=line#Extract data from corresponding rows\n",
    "    connect_list = connect.split()#Transfer a string to a list\n",
    "    connect_temp = list(map(int, connect_list))#Transfer string elements in list into float numbers\n",
    "    Connect = np.array(connect_temp)-1#Transfer a list to an array. In the vtk file, the sequence number begin with 0, but in the .dat file, the sequence number begin with 1.\n",
    "\n",
    "    ctype = np.zeros(number_of_elements)\n",
    "    ctype[:] = VtkHexahedron.tid#Define the cell type. In this file the type is Hexahedron\n",
    "    offset = np.arange(8,number_of_elements*8+1,8)\n",
    "\n",
    "    #Write all the data to a vtk file\n",
    "    unstructuredGridToVTK('./Output/Ver_3.0_'+zone[0][-9:-1], cordinate['X'], cordinate['Y'], cordinate['Z'],\\\n",
    "                          connectivity = Connect, offsets = offset, cell_types = ctype, cellData = cellData,\\\n",
    "                          pointData = pointData)"
   ]
  }
 ],
 "metadata": {
  "kernelspec": {
   "display_name": "Python 3",
   "language": "python",
   "name": "python3"
  },
  "language_info": {
   "codemirror_mode": {
    "name": "ipython",
    "version": 3
   },
   "file_extension": ".py",
   "mimetype": "text/x-python",
   "name": "python",
   "nbconvert_exporter": "python",
   "pygments_lexer": "ipython3",
   "version": "3.7.3"
  }
 },
 "nbformat": 4,
 "nbformat_minor": 2
}
